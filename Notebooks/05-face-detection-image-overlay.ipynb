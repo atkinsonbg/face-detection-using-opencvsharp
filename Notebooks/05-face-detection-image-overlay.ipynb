{
 "cells": [
  {
   "cell_type": "code",
   "execution_count": null,
   "metadata": {
    "dotnet_interactive": {
     "language": "csharp"
    }
   },
   "outputs": [
    {
     "data": {
      "text/html": [
       "<div><div></div><div></div><div><strong>Installed Packages</strong><ul><li><span>OpenCvSharp4, 4.5.5.20211231</span></li><li><span>OpenCvSharp4.Extensions, 4.5.5.20211231</span></li><li><span>OpenCvSharp4.runtime.win, 4.5.5.20211231</span></li></ul></div></div>"
      ]
     },
     "metadata": {},
     "output_type": "display_data"
    }
   ],
   "source": [
    "#r \"nuget:OpenCvSharp4\"\n",
    "#r \"nuget:OpenCvSharp4.Extensions\"\n",
    "#r \"nuget:OpenCvSharp4.runtime.win\""
   ]
  },
  {
   "cell_type": "code",
   "execution_count": null,
   "metadata": {
    "dotnet_interactive": {
     "language": "csharp"
    }
   },
   "outputs": [],
   "source": [
    "using System;\n",
    "using System.IO;\n",
    "using OpenCvSharp;"
   ]
  },
  {
   "cell_type": "code",
   "execution_count": null,
   "metadata": {
    "dotnet_interactive": {
     "language": "csharp"
    }
   },
   "outputs": [],
   "source": [
    "public static Mat MakeOverlay(Mat overlayOG, Mat face)\n",
    "{\n",
    "    int height = 132;\n",
    "    int width = 176;\n",
    "    int x = 114;\n",
    "    int y = 120;\n",
    "\n",
    "    using(Mat overlay = new Mat())\n",
    "    {\n",
    "        Cv2.Resize(overlayOG, overlay, new Size() { Height = height, Width = width });\n",
    "\n",
    "        // First we need to pull the Alpha channel out to preserve it before we modify the image, this is channel 4, index 3\n",
    "        Mat alphaChannel = overlay.ExtractChannel(3);\n",
    "\n",
    "        // Next we convert the image over to BGR2RGB\n",
    "        Mat overlyConvertedColors = new Mat();\n",
    "        Cv2.CvtColor(overlay, overlyConvertedColors, ColorConversionCodes.BGR2RGB);\n",
    "\n",
    "        // Create a Mat[] to hold the remaining 3 color channels of the image\n",
    "        Mat[] overlyColorChannels = new Mat[3];\n",
    "\n",
    "        // We know the image is transparent as has 4 channels, we only need the first 3 which contain the color channels\n",
    "        for (int i = 0; i <= 2; i++)\n",
    "        {\n",
    "            Mat l = overlay.ExtractChannel(i);\n",
    "            overlyColorChannels[i] = l;\n",
    "        }\n",
    "\n",
    "        // We need to merge our converted color channels back into a 3 channel image\n",
    "        Mat overlyMergedConvertedColors = new Mat();\n",
    "        Cv2.Merge(overlyColorChannels, overlyMergedConvertedColors);\n",
    "\n",
    "        // We need to convert our alpha channel to a 3 channel image to match our other images\n",
    "        Mat overlayAlpha3Channel = new Mat();\n",
    "        Cv2.Merge(new Mat[] { alphaChannel, alphaChannel, alphaChannel }, overlayAlpha3Channel);\n",
    "\n",
    "        // We need to combine our color image layer with our alpha image layer\n",
    "        Mat overlayBlackBackground = new Mat();\n",
    "        Cv2.BitwiseAnd(overlyMergedConvertedColors, overlayAlpha3Channel, overlayBlackBackground);\n",
    "\n",
    "        // We need to get the ROI of the face where the hat will go\n",
    "        Rect r = new Rect();\n",
    "        r.Height = height;\n",
    "        r.Width = width;\n",
    "        r.X = x;\n",
    "        r.Y = y;\n",
    "\n",
    "        // Once we have our ROI we pull that into a new Mat\n",
    "        Mat faceROI = face[r];\n",
    "\n",
    "        // Perform all the bitwise operations to fill in the appropriate pixels\n",
    "        Mat bitwiseNotOverlay = new Mat();\n",
    "        Cv2.BitwiseNot(overlayAlpha3Channel, bitwiseNotOverlay);\n",
    "        Mat faceROIImage = new Mat();\n",
    "        Cv2.BitwiseAnd(faceROI, bitwiseNotOverlay, faceROIImage);\n",
    "        Mat faceROIFinal = new Mat();\n",
    "        Cv2.BitwiseOr(faceROIImage, overlayBlackBackground, faceROIFinal);\n",
    "\n",
    "        // Place the ROI back on the image\n",
    "        face[r] = faceROIFinal;\n",
    "\n",
    "        return face;\n",
    "    }\n",
    "}"
   ]
  },
  {
   "cell_type": "code",
   "execution_count": null,
   "metadata": {
    "dotnet_interactive": {
     "language": "csharp"
    }
   },
   "outputs": [
    {
     "name": "stdout",
     "output_type": "stream",
     "text": [
      "Detected faces: 1\r\n"
     ]
    }
   ],
   "source": [
    "var cascade = new CascadeClassifier(@\"../Data/haarcascade_frontalface_alt.xml\");\n",
    "var color = Scalar.FromRgb(0, 255, 0);\n",
    "\n",
    "using(var srcImage = new Mat(\"../Images/face.jpg\"))\n",
    "using(var grayImage = new Mat())\n",
    "using(var overlay = new Mat(\"../Images/sunglasses.png\", ImreadModes.Unchanged))\n",
    "{\n",
    "    Cv2.CvtColor(srcImage, grayImage, ColorConversionCodes.BGRA2GRAY);\n",
    "    Cv2.EqualizeHist(grayImage, grayImage);\n",
    "\n",
    "    var faces = cascade.DetectMultiScale(\n",
    "        image: grayImage,\n",
    "        minSize: new Size(60, 60)\n",
    "        );\n",
    "\n",
    "    Console.WriteLine(\"Detected faces: {0}\", faces.Length);\n",
    "\n",
    "    var overlaySrc = MakeOverlay(overlay, srcImage);\n",
    "\n",
    "    Cv2.ImShow(\"Face Detection\", overlaySrc);\n",
    "    int key = Cv2.WaitKey(0);\n",
    "}"
   ]
  }
 ],
 "metadata": {
  "kernelspec": {
   "display_name": ".NET (C#)",
   "language": "C#",
   "name": ".net-csharp"
  },
  "language_info": {
   "name": "C#"
  }
 },
 "nbformat": 4,
 "nbformat_minor": 2
}
