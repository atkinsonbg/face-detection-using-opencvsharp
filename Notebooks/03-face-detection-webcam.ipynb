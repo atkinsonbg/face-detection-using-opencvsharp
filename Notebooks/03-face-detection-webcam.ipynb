{
 "cells": [
  {
   "cell_type": "code",
   "execution_count": null,
   "metadata": {
    "dotnet_interactive": {
     "language": "csharp"
    }
   },
   "outputs": [
    {
     "data": {
      "text/html": [
       "<div><div></div><div></div><div><strong>Installed Packages</strong><ul><li><span>OpenCvSharp4, 4.5.5.20211231</span></li><li><span>OpenCvSharp4.Extensions, 4.5.5.20211231</span></li><li><span>OpenCvSharp4.runtime.win, 4.5.5.20211231</span></li></ul></div></div>"
      ]
     },
     "metadata": {},
     "output_type": "display_data"
    }
   ],
   "source": [
    "#r \"nuget:OpenCvSharp4\"\n",
    "#r \"nuget:OpenCvSharp4.Extensions\"\n",
    "#r \"nuget:OpenCvSharp4.runtime.win\""
   ]
  },
  {
   "cell_type": "code",
   "execution_count": null,
   "metadata": {
    "dotnet_interactive": {
     "language": "csharp"
    }
   },
   "outputs": [],
   "source": [
    "using System;\n",
    "using System.IO;\n",
    "using OpenCvSharp;"
   ]
  },
  {
   "cell_type": "code",
   "execution_count": null,
   "metadata": {
    "dotnet_interactive": {
     "language": "csharp"
    }
   },
   "outputs": [],
   "source": [
    "var cascade = new CascadeClassifier(@\"../Data/haarcascade_frontalface_alt.xml\");\n",
    "var nestedCascade = new CascadeClassifier(@\"../Data/haarcascade_eye.xml\");\n",
    "var color = Scalar.FromRgb(0, 255, 0);\n",
    "\n",
    "using(VideoCapture capture = new VideoCapture(0))\n",
    "using(Window window = new Window(\"Webcam\"))\n",
    "using(Mat srcImage = new Mat())\n",
    "using(var grayImage = new Mat())\n",
    "using(var detectedFaceGrayImage = new Mat())\n",
    "{\n",
    "\n",
    "    while (capture.IsOpened())\n",
    "    {\n",
    "        capture.Read(srcImage);\n",
    "\n",
    "        Cv2.CvtColor(srcImage, grayImage, ColorConversionCodes.BGRA2GRAY);\n",
    "        Cv2.EqualizeHist(grayImage, grayImage);\n",
    "\n",
    "        var faces = cascade.DetectMultiScale(\n",
    "            image: grayImage,\n",
    "            minSize: new Size(60, 60)\n",
    "            );\n",
    "\n",
    "        foreach (var faceRect in faces)\n",
    "        {\n",
    "            using(var detectedFaceImage = new Mat(srcImage, faceRect))\n",
    "            {\n",
    "                Cv2.Rectangle(srcImage, faceRect, color, 3);\n",
    "\n",
    "                Cv2.CvtColor(detectedFaceImage, detectedFaceGrayImage, ColorConversionCodes.BGRA2GRAY);\n",
    "                var nestedObjects = nestedCascade.DetectMultiScale(\n",
    "                    image: detectedFaceGrayImage,\n",
    "                    minSize: new Size(30, 30)\n",
    "                    );\n",
    "\n",
    "                foreach (var nestedObject in nestedObjects)\n",
    "                {\n",
    "                    var center = new Point\n",
    "                    {\n",
    "                        X = (int)(Math.Round(nestedObject.X + nestedObject.Width * 0.5, MidpointRounding.ToEven) + faceRect.Left),\n",
    "                        Y = (int)(Math.Round(nestedObject.Y + nestedObject.Height * 0.5, MidpointRounding.ToEven) + faceRect.Top)\n",
    "                    };\n",
    "                    var radius = Math.Round((nestedObject.Width + nestedObject.Height) * 0.25, MidpointRounding.ToEven);\n",
    "                    Cv2.Circle(srcImage, center, (int)radius, color, thickness: 2);\n",
    "                }\n",
    "            }\n",
    "        }\n",
    "\n",
    "        window.ShowImage(srcImage);\n",
    "        int key = Cv2.WaitKey(1);\n",
    "        if (key == 27)\n",
    "        {\n",
    "            break;\n",
    "        }                                                                       \n",
    "    }\n",
    "}"
   ]
  }
 ],
 "metadata": {
  "kernelspec": {
   "display_name": ".NET (C#)",
   "language": "C#",
   "name": ".net-csharp"
  },
  "language_info": {
   "name": "C#"
  }
 },
 "nbformat": 4,
 "nbformat_minor": 2
}
