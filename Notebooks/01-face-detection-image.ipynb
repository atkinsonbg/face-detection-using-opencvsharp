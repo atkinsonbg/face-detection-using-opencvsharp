{
 "cells": [
  {
   "cell_type": "code",
   "execution_count": null,
   "metadata": {
    "dotnet_interactive": {
     "language": "csharp"
    }
   },
   "outputs": [
    {
     "data": {
      "text/html": [
       "<div><div></div><div></div><div><strong>Installed Packages</strong><ul><li><span>OpenCvSharp4, 4.5.5.20211231</span></li><li><span>OpenCvSharp4.Extensions, 4.5.5.20211231</span></li><li><span>OpenCvSharp4.runtime.win, 4.5.5.20211231</span></li></ul></div></div>"
      ]
     },
     "metadata": {},
     "output_type": "display_data"
    }
   ],
   "source": [
    "#r \"nuget:OpenCvSharp4\"\n",
    "#r \"nuget:OpenCvSharp4.Extensions\"\n",
    "#r \"nuget:OpenCvSharp4.runtime.win\""
   ]
  },
  {
   "cell_type": "code",
   "execution_count": null,
   "metadata": {
    "dotnet_interactive": {
     "language": "csharp"
    }
   },
   "outputs": [],
   "source": [
    "using System;\n",
    "using System.IO;\n",
    "using OpenCvSharp;"
   ]
  },
  {
   "cell_type": "code",
   "execution_count": null,
   "metadata": {
    "dotnet_interactive": {
     "language": "csharp"
    }
   },
   "outputs": [
    {
     "name": "stdout",
     "output_type": "stream",
     "text": [
      "Detected faces: 4\r\n"
     ]
    }
   ],
   "source": [
    "var cascade = new CascadeClassifier(@\"../Data/haarcascade_frontalface_alt.xml\");\n",
    "var color = Scalar.FromRgb(0, 255, 0);\n",
    "\n",
    "using(var srcImage = new Mat(\"../Images/faces1.jpg\"))\n",
    "using(var grayImage = new Mat())\n",
    "{\n",
    "    Cv2.CvtColor(srcImage, grayImage, ColorConversionCodes.BGRA2GRAY);\n",
    "    Cv2.EqualizeHist(grayImage, grayImage);\n",
    "\n",
    "    var faces = cascade.DetectMultiScale(\n",
    "        image: grayImage,\n",
    "        minSize: new Size(60, 60)\n",
    "        );\n",
    "\n",
    "    Console.WriteLine(\"Detected faces: {0}\", faces.Length);\n",
    "\n",
    "    foreach (var faceRect in faces)\n",
    "    {\n",
    "        Cv2.Rectangle(srcImage, faceRect, color, 3);\n",
    "    }\n",
    "\n",
    "    Cv2.ImShow(\"Face Detection\", srcImage);\n",
    "    int key = Cv2.WaitKey(0);\n",
    "}"
   ]
  }
 ],
 "metadata": {
  "kernelspec": {
   "display_name": ".NET (C#)",
   "language": "C#",
   "name": ".net-csharp"
  },
  "language_info": {
   "name": "C#"
  }
 },
 "nbformat": 4,
 "nbformat_minor": 2
}
